{
 "cells": [
  {
   "cell_type": "code",
   "execution_count": 6,
   "metadata": {},
   "outputs": [
    {
     "name": "stdout",
     "output_type": "stream",
     "text": [
      "Final Node count: 8960\n"
     ]
    }
   ],
   "source": [
    "from graph_tool.all import *\n",
    "import os\n",
    "\n",
    "os.chdir('/media/gu38/Common/CS512/Hadoop Project/Hadoop FInal Project/')\n",
    "g = Graph()\n",
    "# g.set_directed(False)\n",
    "vertex_name = g.new_vertex_property(\"string\")\n",
    "\n",
    "with open('sample.txt', 'r') as edge_list:\n",
    "    nodes = {}\n",
    "    i = 0\n",
    "    for edge in edge_list:\n",
    "        vertex_name1, vertex_name2 = edge.strip().split('\\t')[0], edge.strip().split('\\t')[1]\n",
    "        \n",
    "        if vertex_name1 not in nodes:\n",
    "            nodes[vertex_name1] = i #Put the Source vertex of edge in the dictionary\n",
    "            g.add_vertex() #Add a new node into the graph with next available index\n",
    "            vertex_name[g.vertex(i)] = vertex_name1 # Assign the vertex its name\n",
    "            i = i + 1\n",
    "            \n",
    "        if vertex_name2 not in nodes:\n",
    "            nodes[vertex_name2] = i\n",
    "            g.add_vertex()\n",
    "            vertex_name[g.vertex(i)] = vertex_name2\n",
    "            i = i + 1\n",
    "            \n",
    "        #The Dictionary is formed. Now let's create the edges:\n",
    "        if vertex_name1 != vertex_name2:\n",
    "            g.add_edge(nodes.get(vertex_name1), nodes.get(vertex_name2))\n",
    "        \n",
    "    print(\"Final Node count: \" + str(i))"
   ]
  },
  {
   "cell_type": "code",
   "execution_count": 2,
   "metadata": {},
   "outputs": [
    {
     "data": {
      "text/plain": [
       "['.ipynb_checkpoints',\n",
       " 'can_citations_2.txt',\n",
       " 'Cores Decomposition of Networks.pdf',\n",
       " 'Fixed Points of Graph Peeling.pdf',\n",
       " 'Generalized Cores.pdf',\n",
       " 'graph.pdf',\n",
       " 'graph.png',\n",
       " 'Hadoop512.Final.ipynb',\n",
       " 'Hadoop512Finalp1.ipynb',\n",
       " 'initial.py',\n",
       " 'Intermediate.docx',\n",
       " 'K-Core Decomposition.pdf',\n",
       " 'refined_citations.txt',\n",
       " 'refined_citations_2.txt',\n",
       " 'sample.txt',\n",
       " 'sample1.txt',\n",
       " 'self_loops.txt']"
      ]
     },
     "execution_count": 2,
     "metadata": {},
     "output_type": "execute_result"
    }
   ],
   "source": [
    "import os\n",
    "os.listdir()"
   ]
  },
  {
   "cell_type": "code",
   "execution_count": null,
   "metadata": {},
   "outputs": [],
   "source": []
  }
 ],
 "metadata": {
  "kernelspec": {
   "display_name": "Python 3",
   "language": "python",
   "name": "python3"
  },
  "language_info": {
   "codemirror_mode": {
    "name": "ipython",
    "version": 3
   },
   "file_extension": ".py",
   "mimetype": "text/x-python",
   "name": "python",
   "nbconvert_exporter": "python",
   "pygments_lexer": "ipython3",
   "version": "3.5.2"
  }
 },
 "nbformat": 4,
 "nbformat_minor": 2
}
