{
 "cells": [
  {
   "cell_type": "code",
   "execution_count": null,
   "metadata": {
    "scrolled": true
   },
   "outputs": [
    {
     "name": "stdout",
     "output_type": "stream",
     "text": [
      "Time till determining unsorted Edges: 0:16:27.859434\n",
      "Time elapsed while sorting Edges: 0:00:02.175512\n",
      "Final Node count: 1559666\n",
      "Final Edge count: 9805247\n",
      "Maximum degree of a vertex: 10121\n",
      "Time elapsed in Union-Find: 0:00:02.233012\n",
      "25943\n",
      "244\n",
      "0:00:27.732055\n",
      "Time elapsed in Core-Decomposition: 0:00:52.240386\n"
     ]
    }
   ],
   "source": [
    "from graph_tool.all import *\n",
    "import os\n",
    "from datetime import datetime\n",
    "import plotly.plotly as py\n",
    "import plotly.graph_objs as go\n",
    "\n",
    "import pandas as pd\n",
    "\n",
    "os.system(\"taskset -p 0xff %d\" % os.getpid())\n",
    "\n",
    "startTime0 = datetime.now()\n",
    "\n",
    "os.chdir('/home/gu38/Documents/Hadoop FInal Project/')\n",
    "g = Graph()\n",
    "g.set_directed(False)\n",
    "vertex_name = g.new_vertex_property(\"string\")\n",
    "\n",
    "with open('refined_citations.txt', 'r') as edge_list:\n",
    "    nodes = {}  # Dictionary of {Node-Name,  Node-Index}\n",
    "    edges = {}  # Dictionary of {Node-Index, [list of edges from that node]}\n",
    "    degrees = {} # Dictionary of {Node-Index, Node-Degree}\n",
    "    locations ={} # Dictionary of {Node-Index, location index in sortedEdges}\n",
    "    coreLocations = {} # Dictionary of {Node-Degree, Starting index of that degree nodes in sorted {degrees} }\n",
    "    numDegreeElements = {0:0} #Dictionary of {Node-Degree, Number of nodes with that degree}\n",
    "    \n",
    "    i, numedges = 0, 0\n",
    "    for edge in edge_list:\n",
    "        vertex_name1, vertex_name2 = edge.strip().split('\\t')[0], edge.strip().split('\\t')[1]\n",
    "\n",
    "        if vertex_name1 not in nodes:\n",
    "            nodes[vertex_name1] = i  # Put the Source vertex of edge in the dictionary\n",
    "            g.add_vertex()  # Add a new node into the graph with next available index\n",
    "            vertex_name[g.vertex(i)] = vertex_name1  # Assign the vertex its name\n",
    "            i = i + 1\n",
    "\n",
    "        if vertex_name2 not in nodes:\n",
    "            nodes[vertex_name2] = i\n",
    "            g.add_vertex()\n",
    "            vertex_name[g.vertex(i)] = vertex_name2\n",
    "            i = i + 1\n",
    "\n",
    "            # The Dictionary is formed. Now let's create the edges:\n",
    "        #         if vertex_name1 != vertex_name2:\n",
    "        if nodes[vertex_name1] in edges:\n",
    "            edges[nodes[vertex_name1]].append(nodes[vertex_name2])\n",
    "        else:\n",
    "            edges[nodes[vertex_name1]] = [nodes[vertex_name2]]\n",
    "        if nodes[vertex_name2] in edges:\n",
    "            edges[nodes[vertex_name2]].append(nodes[vertex_name1])\n",
    "        else:\n",
    "            edges[nodes[vertex_name2]] = [nodes[vertex_name1]]\n",
    "\n",
    "        if vertex_name1 != vertex_name2:\n",
    "            g.add_edge(nodes.get(vertex_name1), nodes.get(vertex_name2))\n",
    "            numedges += 1\n",
    "\n",
    "    startTime1 = datetime.now()\n",
    "    time1 = startTime1 - startTime0\n",
    "    print(\"Time till determining unsorted Edges: \" + str(time1))\n",
    "            #     edges.sort(key = len(edges[1]))\n",
    "\n",
    "    sortedEdges = sorted(edges.items(), key=lambda item: len(item[1]))\n",
    "\n",
    "    startTime2 = datetime.now()\n",
    "    time2 = startTime2 - startTime1\n",
    "    print(\"Time elapsed while sorting Edges: \" + str(time2))\n",
    "\n",
    "    maxDegree = len(sortedEdges[len(sortedEdges) - 1][1])\n",
    "    \n",
    "    degree, numNode = 0, 0\n",
    "    \n",
    "    for vertex in sortedEdges:\n",
    "        if len(vertex[1]) > degree:\n",
    "            coreLocations[len(vertex[1])] = len(degrees)\n",
    "            numDegreeElements[len(vertex[1])] = 1\n",
    "        else:\n",
    "            numDegreeElements[len(vertex[1])] += 1\n",
    "            \n",
    "        degree = len(vertex[1])\n",
    "        degrees[vertex[0]] = degree\n",
    "        locations[vertex[0]] = numNode\n",
    "        numNode += 1\n",
    "\n",
    "#     degrees = sorted(degrees.items(), key=lambda item: item[1])\n",
    "    print(\"Final Node count: \" + str(numNode))\n",
    "    print(\"Final Edge count: \" + str(numedges))\n",
    "    print(\"Maximum degree of a vertex: \" + str(maxDegree))\n",
    "\n",
    "\n",
    "# graph_draw(g, vertex_font_size=10, vertex_text = vertex_name, output_size=(6000, 6000))\n",
    "\n",
    "sortedDegrees = sorted(degrees.items(), key=lambda item: item[1])\n",
    "\n",
    "i = 0\n",
    "degDist = {}\n",
    "for item in sortedDegrees:\n",
    "    deg = sortedDegrees[i][1]\n",
    "    if deg not in degDist:\n",
    "        degDist[deg] = 1\n",
    "    degDist[deg] += 1\n",
    "    i += 1\n",
    "\n",
    "    \n",
    "trace1 = go.Bar(\n",
    "    x=list(degDist.keys()), \n",
    "    y=list(degDist.values()), \n",
    "    name='Degree Distribution'\n",
    ")\n",
    "\n",
    "\n",
    "data1 = [trace1]\n",
    "layout = go.Layout(\n",
    "    barmode='group',\n",
    "    title = 'Degree Distribution'\n",
    ")\n",
    "\n",
    "fig1 = go.Figure(data=data1, layout=layout)\n",
    "py.iplot(fig1, filename='grouped-bar')\n"
   ]
  },
  {
   "cell_type": "code",
   "execution_count": 95,
   "metadata": {
    "scrolled": false
   },
   "outputs": [
    {
     "data": {
      "text/html": [
       "<iframe id=\"igraph\" scrolling=\"no\" style=\"border:none;\" seamless=\"seamless\" src=\"https://plot.ly/~upmangaurav/6.embed\" height=\"525px\" width=\"100%\"></iframe>"
      ],
      "text/plain": [
       "<plotly.tools.PlotlyDisplay object>"
      ]
     },
     "execution_count": 95,
     "metadata": {},
     "output_type": "execute_result"
    }
   ],
   "source": [
    "starttime1 = datetime.now()\n",
    "\n",
    "def getRoots(aNeigh):\n",
    "    def findRoot(aNode, aRoot):\n",
    "        while aNode != aRoot[aNode][0]:\n",
    "            aNode = aRoot[aNode][0]\n",
    "        return (aNode, aRoot[aNode][1])\n",
    "\n",
    "    myRoot = {}\n",
    "    for myNode in aNeigh.keys():\n",
    "        myRoot[myNode] = (myNode, 0)\n",
    "\n",
    "    for myI in aNeigh:\n",
    "        for myJ in aNeigh[myI]:\n",
    "            (myRoot_myI, myDepthMyI) = findRoot(myI, myRoot)\n",
    "            (myRoot_myJ, myDepthMyJ) = findRoot(myJ, myRoot)\n",
    "            if myRoot_myI != myRoot_myJ:\n",
    "                myMin = myRoot_myI\n",
    "                myMax = myRoot_myJ\n",
    "                if myDepthMyI > myDepthMyJ:\n",
    "                    myMin = myRoot_myJ\n",
    "                    myMax = myRoot_myI\n",
    "                myRoot[myMax] = (myMax, max(myRoot[myMin][1] + 1, myRoot[myMax][1]))\n",
    "                myRoot[myMin] = (myRoot[myMax][0], -1)\n",
    "\n",
    "    myToRet = {}\n",
    "    for myI in aNeigh:\n",
    "        if myRoot[myI][0] == myI:\n",
    "            myToRet[myI] = []\n",
    "    for myI in aNeigh:\n",
    "        myToRet[findRoot(myI, myRoot)[0]].append(myI)\n",
    "\n",
    "    return myToRet\n",
    "\n",
    "\n",
    "startTime3 = datetime.now()\n",
    "time3 = startTime3 - startTime2\n",
    "print(\"Time elapsed in Union-Find: \" + str(time3))\n",
    "\n",
    "connectedComps = getRoots(edges)\n",
    "print(len(getRoots(edges)))\n",
    "\n",
    "i = 0\n",
    "conCompDegDist = {}\n",
    "for item, conComp in connectedComps.items():\n",
    "    deg = len(conComp)\n",
    "    if deg not in conCompDegDist:\n",
    "        conCompDegDist[deg] = 1\n",
    "    conCompDegDist[deg] += 1\n",
    "    i += 1\n",
    "\n",
    "del conCompDegDist[52151]\n",
    "\n",
    "trace2 = go.Bar(\n",
    "    x=list(conCompDegDist.keys()), \n",
    "    y=list(conCompDegDist.values()), \n",
    "    name='conCompDegDist'\n",
    ")\n",
    "\n",
    "data2 = [trace2]\n",
    "layout2 = go.Layout(\n",
    "    barmode='group',\n",
    "    title = 'Connected Component Degree Distribution'\n",
    ")\n",
    "\n",
    "fig2 = go.Figure(data=data2, layout=layout2)\n",
    "py.iplot(fig2, filename='conCompDegDist')"
   ]
  },
  {
   "cell_type": "code",
   "execution_count": 119,
   "metadata": {
    "scrolled": false
   },
   "outputs": [
    {
     "data": {
      "text/html": [
       "<iframe id=\"igraph\" scrolling=\"no\" style=\"border:none;\" seamless=\"seamless\" src=\"https://plot.ly/~upmangaurav/8.embed\" height=\"525px\" width=\"100%\"></iframe>"
      ],
      "text/plain": [
       "<plotly.tools.PlotlyDisplay object>"
      ]
     },
     "execution_count": 119,
     "metadata": {},
     "output_type": "execute_result"
    }
   ],
   "source": [
    "#----------------------------------------------------------------------------\n",
    "\n",
    "startTime4 = datetime.now()\n",
    "core = {}\n",
    "maxCore = 0\n",
    "time5 = datetime.now() - datetime.now()\n",
    "# maxCore2 = 0\n",
    "for vertex in sortedEdges:\n",
    "    for neighbour in vertex[1]:\n",
    "#         maxCore1 += 1\n",
    "        val = degrees[vertex[0]]\n",
    "        deg = degrees[neighbour]\n",
    "        \n",
    "        \n",
    "        core[vertex[0]] = val\n",
    "        if val > maxCore:\n",
    "            maxCore = val\n",
    "#         print(vertex)\n",
    "#         print(neighbour)\n",
    "        if degrees[neighbour] > val:\n",
    "\n",
    "            startTime6 = datetime.now()\n",
    "            \n",
    "            indexOld = locations[neighbour]\n",
    "            indexNew = coreLocations[deg]\n",
    "            sortedEdges[indexOld], sortedEdges[indexNew] = sortedEdges[indexNew], sortedEdges[indexOld]\n",
    "#             sortedEdges.insert(indexNew, sortedEdges.pop(indexOld))\n",
    "            \n",
    "            locations[neighbour] = indexNew\n",
    "            locations[sortedEdges[indexOld][0]] = indexOld\n",
    "\n",
    "            if (deg - 1) not in coreLocations:\n",
    "                coreLocations[deg - 1] = coreLocations[deg]\n",
    "                numDegreeElements[deg - 1] = 0\n",
    "\n",
    "            if numDegreeElements[deg] > 0:\n",
    "                coreLocations[deg] += 1\n",
    "                numDegreeElements[deg] -= 1\n",
    "            else:\n",
    "                del coreLocations[deg]\n",
    "                print(\"anybody there\")\n",
    "#                 del numDegreeElements[deg]\n",
    "\n",
    "            numDegreeElements[deg - 1] += 1\n",
    "\n",
    "                \n",
    "            degrees[neighbour] -= 1\n",
    "\n",
    "            time5 += datetime.now() - startTime6\n",
    "\n",
    "\n",
    "print(maxCore)\n",
    "print(time5)\n",
    "\n",
    "startTime5 = datetime.now()\n",
    "time4 = startTime5 - startTime4\n",
    "print(\"Time elapsed in Core-Decomposition: \" + str(time4))\n",
    "\n",
    "#----------------------x--------------------Peeling (Part #3)-------------------x---------------------\n",
    "startTime6 = datetime.now()\n",
    "\n",
    "sortedPeels = sorted(core.items(), key=lambda item: item[1], reverse = True)\n",
    "\n",
    "curVert = []\n",
    "edgeLayerValues = {}\n",
    "sortedPeeledEdges = sortedEdges\n",
    "\n",
    "def themPeels(curVert, peelval):\n",
    "    edgeLayerValues[peelVal] = []\n",
    "    for vert1 in curVert:\n",
    "        for vert2 in sortedPeeledEdges[locations[vert1]][1]:\n",
    "            if vert2 in curVert:\n",
    "                if (vert1, vert2) not in edgeLayerValues[peelVal]:\n",
    "                    edgeLayerValues[peelVal].append((vert1, vert2))\n",
    "\n",
    "                sortedPeeledEdges[locations[vert1]][1].remove(vert2)\n",
    "                sortedPeeledEdges[locations[vert2]][1].remove(vert1)\n",
    "\n",
    "#         curVert.remove(vert1)\n",
    "    \n",
    "peelVal = sortedPeels[0][1]\n",
    "lastElem = sortedPeels[len(sortedPeels) - 1][0]\n",
    "for peel in sortedPeels:\n",
    "    if peel[1] == peelVal:\n",
    "        curVert.append(peel[0])\n",
    "    else:\n",
    "        themPeels(curVert, peelVal)\n",
    "        curVert = [peel[0]]\n",
    "        peelVal -= 1\n",
    "#     if peel[0] == lastElem:\n",
    "#         themPeels(curVert, peelVal)\n",
    "\n",
    "startTime7 = datetime.now()\n",
    "time4 = startTime7 - startTime6\n",
    "print(\"Time elapsed in Vertex Peeling: \" + str(time4))\n"
   ]
  },
  {
   "cell_type": "code",
   "execution_count": 113,
   "metadata": {},
   "outputs": [
    {
     "name": "stdout",
     "output_type": "stream",
     "text": [
      "{1: 20, 2: 855, 3: 378, 4: 197, 5: 139, 6: 46, 7: 25, 8: 18, 9: 11, 10: 9, 11: 6, 12: 5, 13: 5, 14: 4, 15: 3, 16: 2, 17: 2, 18: 4, 19: 3, 20: 2, 21: 2, 22: 2, 24: 2, 29: 3, 52151: 2}\n"
     ]
    }
   ],
   "source": [
    "print(conCompDegDist)"
   ]
  },
  {
   "cell_type": "code",
   "execution_count": 35,
   "metadata": {},
   "outputs": [
    {
     "name": "stdout",
     "output_type": "stream",
     "text": [
      "[302, 9697, 302, 9699, 9700]\n"
     ]
    }
   ],
   "source": [
    "print(sortedEdges[locations[300]][1])"
   ]
  },
  {
   "cell_type": "code",
   "execution_count": 23,
   "metadata": {},
   "outputs": [
    {
     "name": "stdout",
     "output_type": "stream",
     "text": [
      "81\n",
      "11\n"
     ]
    }
   ],
   "source": [
    "for i in edgeLayerValues:\n",
    "    print(len(edgeLayerValues[i]))"
   ]
  },
  {
   "cell_type": "code",
   "execution_count": 47,
   "metadata": {},
   "outputs": [
    {
     "name": "stdout",
     "output_type": "stream",
     "text": [
      "28\n"
     ]
    }
   ],
   "source": [
    "i = 0\n",
    "maxCoreVal = 0\n",
    "maxCoreValItemNum = 0\n",
    "for item in vprop:\n",
    "    if i == 30900:\n",
    "        print(item)\n",
    "    if item > maxCoreVal:\n",
    "        maxCoreVal = item\n",
    "        maxCoreValItemNum = i\n",
    "        print(\"Core value for \" + str(i) + \"is: \" + str(item))\n",
    "    i += 1\n",
    "\n",
    "print(maxCoreValItemNum)\n",
    "print(maxCoreVal)"
   ]
  },
  {
   "cell_type": "code",
   "execution_count": null,
   "metadata": {},
   "outputs": [],
   "source": []
  }
 ],
 "metadata": {
  "kernelspec": {
   "display_name": "Python 3",
   "language": "python",
   "name": "python3"
  },
  "language_info": {
   "codemirror_mode": {
    "name": "ipython",
    "version": 3
   },
   "file_extension": ".py",
   "mimetype": "text/x-python",
   "name": "python",
   "nbconvert_exporter": "python",
   "pygments_lexer": "ipython3",
   "version": "3.5.2"
  }
 },
 "nbformat": 4,
 "nbformat_minor": 2
}
